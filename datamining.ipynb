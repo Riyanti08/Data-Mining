{
 "cells": [
  {
   "cell_type": "code",
   "execution_count": 29,
   "id": "b073f854-abab-4ba3-8583-8922ef8b1288",
   "metadata": {},
   "outputs": [],
   "source": [
    "import numpy as np\n",
    "import matplotlib.pyplot as plt\n",
    "import pandas as pd"
   ]
  },
  {
   "cell_type": "code",
   "execution_count": 30,
   "id": "c23b9115-6531-46a1-bfb5-705d6fe7c955",
   "metadata": {},
   "outputs": [],
   "source": [
    "dfmhs = pd.read_csv('datamining.csv',sep=';',engine='python')"
   ]
  },
  {
   "cell_type": "code",
   "execution_count": 31,
   "id": "bd3ddd26-0614-4002-9690-a8877f67b4f2",
   "metadata": {},
   "outputs": [
    {
     "data": {
      "text/html": [
       "<div>\n",
       "<style scoped>\n",
       "    .dataframe tbody tr th:only-of-type {\n",
       "        vertical-align: middle;\n",
       "    }\n",
       "\n",
       "    .dataframe tbody tr th {\n",
       "        vertical-align: top;\n",
       "    }\n",
       "\n",
       "    .dataframe thead th {\n",
       "        text-align: right;\n",
       "    }\n",
       "</style>\n",
       "<table border=\"1\" class=\"dataframe\">\n",
       "  <thead>\n",
       "    <tr style=\"text-align: right;\">\n",
       "      <th></th>\n",
       "      <th>UTS</th>\n",
       "      <th>UAS</th>\n",
       "      <th>TUGAS</th>\n",
       "    </tr>\n",
       "  </thead>\n",
       "  <tbody>\n",
       "    <tr>\n",
       "      <th>count</th>\n",
       "      <td>20.00000</td>\n",
       "      <td>20.000000</td>\n",
       "      <td>20.000000</td>\n",
       "    </tr>\n",
       "    <tr>\n",
       "      <th>mean</th>\n",
       "      <td>76.25000</td>\n",
       "      <td>59.300000</td>\n",
       "      <td>83.850000</td>\n",
       "    </tr>\n",
       "    <tr>\n",
       "      <th>std</th>\n",
       "      <td>12.20386</td>\n",
       "      <td>25.639402</td>\n",
       "      <td>5.363375</td>\n",
       "    </tr>\n",
       "    <tr>\n",
       "      <th>min</th>\n",
       "      <td>56.00000</td>\n",
       "      <td>20.000000</td>\n",
       "      <td>75.000000</td>\n",
       "    </tr>\n",
       "    <tr>\n",
       "      <th>25%</th>\n",
       "      <td>66.50000</td>\n",
       "      <td>39.250000</td>\n",
       "      <td>80.000000</td>\n",
       "    </tr>\n",
       "    <tr>\n",
       "      <th>50%</th>\n",
       "      <td>79.00000</td>\n",
       "      <td>66.500000</td>\n",
       "      <td>83.500000</td>\n",
       "    </tr>\n",
       "    <tr>\n",
       "      <th>75%</th>\n",
       "      <td>82.75000</td>\n",
       "      <td>80.250000</td>\n",
       "      <td>88.250000</td>\n",
       "    </tr>\n",
       "    <tr>\n",
       "      <th>max</th>\n",
       "      <td>97.00000</td>\n",
       "      <td>94.000000</td>\n",
       "      <td>93.000000</td>\n",
       "    </tr>\n",
       "  </tbody>\n",
       "</table>\n",
       "</div>"
      ],
      "text/plain": [
       "            UTS        UAS      TUGAS\n",
       "count  20.00000  20.000000  20.000000\n",
       "mean   76.25000  59.300000  83.850000\n",
       "std    12.20386  25.639402   5.363375\n",
       "min    56.00000  20.000000  75.000000\n",
       "25%    66.50000  39.250000  80.000000\n",
       "50%    79.00000  66.500000  83.500000\n",
       "75%    82.75000  80.250000  88.250000\n",
       "max    97.00000  94.000000  93.000000"
      ]
     },
     "execution_count": 31,
     "metadata": {},
     "output_type": "execute_result"
    }
   ],
   "source": [
    "dfmhs.describe()"
   ]
  },
  {
   "cell_type": "code",
   "execution_count": 33,
   "id": "a4d94dbe-3cc7-4246-b33e-dfc4a6397e0c",
   "metadata": {},
   "outputs": [
    {
     "data": {
      "text/plain": [
       "Text(0.5, 1.0, 'Grafik Nilai Mahasiswa')"
      ]
     },
     "execution_count": 33,
     "metadata": {},
     "output_type": "execute_result"
    },
    {
     "data": {
      "image/png": "[encoded data removed]",
      "text/plain": [
       "<Figure size 640x480 with 1 Axes>"
      ]
     },
     "metadata": {},
     "output_type": "display_data"
    }
   ],
   "source": [
    "#visualisasi\n",
    "plt.scatter(dfmhs['UTS'],dfmhs['UAS'])\n",
    "plt.xlabel(\"UTS\")\n",
    "plt.ylabel(\"UAS\")\n",
    "plt.title(\"Grafik Nilai Mahasiswa\")"
   ]
  },
  {
   "cell_type": "raw",
   "id": "88cbc5dc-722a-425b-a818-702a2da5805c",
   "metadata": {},
   "source": [
    "MEMBUAT DATA TRAINING"
   ]
  },
  {
   "cell_type": "code",
   "execution_count": 34,
   "id": "867b3795-4eda-4b13-ae8f-bd91d438fa88",
   "metadata": {},
   "outputs": [],
   "source": [
    "x_train = dfmhs[['UTS','UAS']].values"
   ]
  },
  {
   "cell_type": "raw",
   "id": "ece446b2-f0d6-4e5b-afe5-aa3b4e918d02",
   "metadata": {},
   "source": [
    "FEATURE SCALING"
   ]
  },
  {
   "cell_type": "code",
   "execution_count": 35,
   "id": "05ed3b6b-d5ee-4052-9fcc-6094e52d0a98",
   "metadata": {},
   "outputs": [],
   "source": [
    "from sklearn.preprocessing import MinMaxScaler\n",
    "scaler = MinMaxScaler()\n",
    "x_train=scaler.fit_transform(x_train)"
   ]
  },
  {
   "cell_type": "code",
   "execution_count": 36,
   "id": "e32178cd-4a95-48f3-bd62-afc6b7d61a42",
   "metadata": {},
   "outputs": [
    {
     "data": {
      "text/plain": [
       "array([[0.56097561, 0.68918919],\n",
       "       [0.14634146, 0.06756757],\n",
       "       [0.31707317, 0.        ],\n",
       "       [0.56097561, 0.        ],\n",
       "       [0.19512195, 0.66216216],\n",
       "       [0.95121951, 0.        ],\n",
       "       [1.        , 0.45945946],\n",
       "       [0.41463415, 0.52702703],\n",
       "       [0.2195122 , 0.82432432],\n",
       "       [0.56097561, 1.        ],\n",
       "       [0.3902439 , 0.60810811],\n",
       "       [0.04878049, 0.7972973 ],\n",
       "       [0.        , 0.82432432],\n",
       "       [0.82926829, 0.52702703],\n",
       "       [0.58536585, 0.81081081],\n",
       "       [0.56097561, 0.93243243],\n",
       "       [0.92682927, 0.64864865],\n",
       "       [0.70731707, 0.32432432],\n",
       "       [0.63414634, 0.01351351],\n",
       "       [0.26829268, 0.90540541]])"
      ]
     },
     "execution_count": 36,
     "metadata": {},
     "output_type": "execute_result"
    }
   ],
   "source": [
    "x_train"
   ]
  },
  {
   "cell_type": "raw",
   "id": "d667d200-7a18-4b34-b0b7-7d162d997ede",
   "metadata": {},
   "source": [
    "CLUSTERING"
   ]
  },
  {
   "cell_type": "code",
   "execution_count": 37,
   "id": "cdc97c6e-c437-4771-a1af-1cf0c2e1e714",
   "metadata": {},
   "outputs": [
    {
     "data": {
      "text/html": [
       "<style>#sk-container-id-1 {color: black;}#sk-container-id-1 pre{padding: 0;}#sk-container-id-1 div.sk-toggleable {background-color: white;}#sk-container-id-1 label.sk-toggleable__label {cursor: pointer;display: block;width: 100%;margin-bottom: 0;padding: 0.3em;box-sizing: border-box;text-align: center;}#sk-container-id-1 label.sk-toggleable__label-arrow:before {content: \"▸\";float: left;margin-right: 0.25em;color: #696969;}#sk-container-id-1 label.sk-toggleable__label-arrow:hover:before {color: black;}#sk-container-id-1 div.sk-estimator:hover label.sk-toggleable__label-arrow:before {color: black;}#sk-container-id-1 div.sk-toggleable__content {max-height: 0;max-width: 0;overflow: hidden;text-align: left;background-color: #f0f8ff;}#sk-container-id-1 div.sk-toggleable__content pre {margin: 0.2em;color: black;border-radius: 0.25em;background-color: #f0f8ff;}#sk-container-id-1 input.sk-toggleable__control:checked~div.sk-toggleable__content {max-height: 200px;max-width: 100%;overflow: auto;}#sk-container-id-1 input.sk-toggleable__control:checked~label.sk-toggleable__label-arrow:before {content: \"▾\";}#sk-container-id-1 div.sk-estimator input.sk-toggleable__control:checked~label.sk-toggleable__label {background-color: #d4ebff;}#sk-container-id-1 div.sk-label input.sk-toggleable__control:checked~label.sk-toggleable__label {background-color: #d4ebff;}#sk-container-id-1 input.sk-hidden--visually {border: 0;clip: rect(1px 1px 1px 1px);clip: rect(1px, 1px, 1px, 1px);height: 1px;margin: -1px;overflow: hidden;padding: 0;position: absolute;width: 1px;}#sk-container-id-1 div.sk-estimator {font-family: monospace;background-color: #f0f8ff;border: 1px dotted black;border-radius: 0.25em;box-sizing: border-box;margin-bottom: 0.5em;}#sk-container-id-1 div.sk-estimator:hover {background-color: #d4ebff;}#sk-container-id-1 div.sk-parallel-item::after {content: \"\";width: 100%;border-bottom: 1px solid gray;flex-grow: 1;}#sk-container-id-1 div.sk-label:hover label.sk-toggleable__label {background-color: #d4ebff;}#sk-container-id-1 div.sk-serial::before {content: \"\";position: absolute;border-left: 1px solid gray;box-sizing: border-box;top: 0;bottom: 0;left: 50%;z-index: 0;}#sk-container-id-1 div.sk-serial {display: flex;flex-direction: column;align-items: center;background-color: white;padding-right: 0.2em;padding-left: 0.2em;position: relative;}#sk-container-id-1 div.sk-item {position: relative;z-index: 1;}#sk-container-id-1 div.sk-parallel {display: flex;align-items: stretch;justify-content: center;background-color: white;position: relative;}#sk-container-id-1 div.sk-item::before, #sk-container-id-1 div.sk-parallel-item::before {content: \"\";position: absolute;border-left: 1px solid gray;box-sizing: border-box;top: 0;bottom: 0;left: 50%;z-index: -1;}#sk-container-id-1 div.sk-parallel-item {display: flex;flex-direction: column;z-index: 1;position: relative;background-color: white;}#sk-container-id-1 div.sk-parallel-item:first-child::after {align-self: flex-end;width: 50%;}#sk-container-id-1 div.sk-parallel-item:last-child::after {align-self: flex-start;width: 50%;}#sk-container-id-1 div.sk-parallel-item:only-child::after {width: 0;}#sk-container-id-1 div.sk-dashed-wrapped {border: 1px dashed gray;margin: 0 0.4em 0.5em 0.4em;box-sizing: border-box;padding-bottom: 0.4em;background-color: white;}#sk-container-id-1 div.sk-label label {font-family: monospace;font-weight: bold;display: inline-block;line-height: 1.2em;}#sk-container-id-1 div.sk-label-container {text-align: center;}#sk-container-id-1 div.sk-container {/* jupyter's `normalize.less` sets `[hidden] { display: none; }` but bootstrap.min.css set `[hidden] { display: none !important; }` so we also need the `!important` here to be able to override the default hidden behavior on the sphinx rendered scikit-learn.org. See: https://github.com/scikit-learn/scikit-learn/issues/21755 */display: inline-block !important;position: relative;}#sk-container-id-1 div.sk-text-repr-fallback {display: none;}</style><div id=\"sk-container-id-1\" class=\"sk-top-container\"><div class=\"sk-text-repr-fallback\"><pre>KMeans(n_clusters=2)</pre><b>In a Jupyter environment, please rerun this cell to show the HTML representation or trust the notebook. <br />On GitHub, the HTML representation is unable to render, please try loading this page with nbviewer.org.</b></div><div class=\"sk-container\" hidden><div class=\"sk-item\"><div class=\"sk-estimator sk-toggleable\"><input class=\"sk-toggleable__control sk-hidden--visually\" id=\"sk-estimator-id-1\" type=\"checkbox\" checked><label for=\"sk-estimator-id-1\" class=\"sk-toggleable__label sk-toggleable__label-arrow\">KMeans</label><div class=\"sk-toggleable__content\"><pre>KMeans(n_clusters=2)</pre></div></div></div></div></div>"
      ],
      "text/plain": [
       "KMeans(n_clusters=2)"
      ]
     },
     "execution_count": 37,
     "metadata": {},
     "output_type": "execute_result"
    }
   ],
   "source": [
    "from sklearn.cluster import KMeans\n",
    "kmean = KMeans(n_clusters=2)\n",
    "kmean"
   ]
  },
  {
   "cell_type": "code",
   "execution_count": 38,
   "id": "98fd368e-33a9-442b-ac60-c2b4a980a556",
   "metadata": {},
   "outputs": [
    {
     "name": "stderr",
     "output_type": "stream",
     "text": [
      "C:\\Users\\EVA RIYANTI\\anaconda3-part2\\Lib\\site-packages\\sklearn\\cluster\\_kmeans.py:1412: FutureWarning: The default value of `n_init` will change from 10 to 'auto' in 1.4. Set the value of `n_init` explicitly to suppress the warning\n",
      "  super()._check_params_vs_input(X, default_n_init=10)\n",
      "C:\\Users\\EVA RIYANTI\\anaconda3-part2\\Lib\\site-packages\\sklearn\\cluster\\_kmeans.py:1436: UserWarning: KMeans is known to have a memory leak on Windows with MKL, when there are less chunks than available threads. You can avoid it by setting the environment variable OMP_NUM_THREADS=1.\n",
      "  warnings.warn(\n"
     ]
    }
   ],
   "source": [
    "y_cluster = kmean.fit_predict(x_train)"
   ]
  },
  {
   "cell_type": "code",
   "execution_count": 39,
   "id": "79fc56bb-d843-4881-968c-b9e25d13522c",
   "metadata": {},
   "outputs": [
    {
     "name": "stderr",
     "output_type": "stream",
     "text": [
      "C:\\Users\\EVA RIYANTI\\anaconda3-part2\\Lib\\site-packages\\sklearn\\cluster\\_kmeans.py:1412: FutureWarning: The default value of `n_init` will change from 10 to 'auto' in 1.4. Set the value of `n_init` explicitly to suppress the warning\n",
      "  super()._check_params_vs_input(X, default_n_init=10)\n",
      "C:\\Users\\EVA RIYANTI\\anaconda3-part2\\Lib\\site-packages\\sklearn\\cluster\\_kmeans.py:1436: UserWarning: KMeans is known to have a memory leak on Windows with MKL, when there are less chunks than available threads. You can avoid it by setting the environment variable OMP_NUM_THREADS=1.\n",
      "  warnings.warn(\n"
     ]
    }
   ],
   "source": [
    "y_cluster = kmean.fit_predict(x_train)"
   ]
  },
  {
   "cell_type": "code",
   "execution_count": 40,
   "id": "b46f3d7e-cf0b-4e87-87b0-5e7adbcb7edd",
   "metadata": {},
   "outputs": [],
   "source": [
    "dfmhs['Cluster'] = y_cluster"
   ]
  },
  {
   "cell_type": "code",
   "execution_count": 41,
   "id": "0403bda5-ec9d-4a1d-8711-6da983d5bb84",
   "metadata": {},
   "outputs": [
    {
     "data": {
      "text/html": [
       "<div>\n",
       "<style scoped>\n",
       "    .dataframe tbody tr th:only-of-type {\n",
       "        vertical-align: middle;\n",
       "    }\n",
       "\n",
       "    .dataframe tbody tr th {\n",
       "        vertical-align: top;\n",
       "    }\n",
       "\n",
       "    .dataframe thead th {\n",
       "        text-align: right;\n",
       "    }\n",
       "</style>\n",
       "<table border=\"1\" class=\"dataframe\">\n",
       "  <thead>\n",
       "    <tr style=\"text-align: right;\">\n",
       "      <th></th>\n",
       "      <th>Nama</th>\n",
       "      <th>UTS</th>\n",
       "      <th>UAS</th>\n",
       "      <th>TUGAS</th>\n",
       "      <th>Cluster</th>\n",
       "    </tr>\n",
       "  </thead>\n",
       "  <tbody>\n",
       "    <tr>\n",
       "      <th>0</th>\n",
       "      <td>Anita Nuraini</td>\n",
       "      <td>79</td>\n",
       "      <td>71</td>\n",
       "      <td>86</td>\n",
       "      <td>1</td>\n",
       "    </tr>\n",
       "    <tr>\n",
       "      <th>1</th>\n",
       "      <td>Noval Ramdhan</td>\n",
       "      <td>62</td>\n",
       "      <td>25</td>\n",
       "      <td>88</td>\n",
       "      <td>0</td>\n",
       "    </tr>\n",
       "    <tr>\n",
       "      <th>2</th>\n",
       "      <td>Icha Prastuti</td>\n",
       "      <td>69</td>\n",
       "      <td>20</td>\n",
       "      <td>81</td>\n",
       "      <td>0</td>\n",
       "    </tr>\n",
       "    <tr>\n",
       "      <th>3</th>\n",
       "      <td>Syahrini Safitri</td>\n",
       "      <td>79</td>\n",
       "      <td>20</td>\n",
       "      <td>83</td>\n",
       "      <td>0</td>\n",
       "    </tr>\n",
       "    <tr>\n",
       "      <th>4</th>\n",
       "      <td>Satya Napitulu</td>\n",
       "      <td>64</td>\n",
       "      <td>69</td>\n",
       "      <td>79</td>\n",
       "      <td>1</td>\n",
       "    </tr>\n",
       "    <tr>\n",
       "      <th>5</th>\n",
       "      <td>Hana Winarsih</td>\n",
       "      <td>95</td>\n",
       "      <td>20</td>\n",
       "      <td>86</td>\n",
       "      <td>0</td>\n",
       "    </tr>\n",
       "    <tr>\n",
       "      <th>6</th>\n",
       "      <td>Kezia Pudjiastuti</td>\n",
       "      <td>97</td>\n",
       "      <td>54</td>\n",
       "      <td>85</td>\n",
       "      <td>0</td>\n",
       "    </tr>\n",
       "    <tr>\n",
       "      <th>7</th>\n",
       "      <td>Humaira Riyanti</td>\n",
       "      <td>73</td>\n",
       "      <td>59</td>\n",
       "      <td>75</td>\n",
       "      <td>1</td>\n",
       "    </tr>\n",
       "    <tr>\n",
       "      <th>8</th>\n",
       "      <td>Rudi Suryono</td>\n",
       "      <td>65</td>\n",
       "      <td>81</td>\n",
       "      <td>83</td>\n",
       "      <td>1</td>\n",
       "    </tr>\n",
       "    <tr>\n",
       "      <th>9</th>\n",
       "      <td>Anita Fujiati</td>\n",
       "      <td>79</td>\n",
       "      <td>94</td>\n",
       "      <td>75</td>\n",
       "      <td>1</td>\n",
       "    </tr>\n",
       "    <tr>\n",
       "      <th>10</th>\n",
       "      <td>Putri Hasanah</td>\n",
       "      <td>72</td>\n",
       "      <td>65</td>\n",
       "      <td>78</td>\n",
       "      <td>1</td>\n",
       "    </tr>\n",
       "    <tr>\n",
       "      <th>11</th>\n",
       "      <td>Raden Narpati</td>\n",
       "      <td>58</td>\n",
       "      <td>79</td>\n",
       "      <td>84</td>\n",
       "      <td>1</td>\n",
       "    </tr>\n",
       "    <tr>\n",
       "      <th>12</th>\n",
       "      <td>Darmanto Sihombing</td>\n",
       "      <td>56</td>\n",
       "      <td>81</td>\n",
       "      <td>80</td>\n",
       "      <td>1</td>\n",
       "    </tr>\n",
       "    <tr>\n",
       "      <th>13</th>\n",
       "      <td>Lukman Permadi</td>\n",
       "      <td>90</td>\n",
       "      <td>59</td>\n",
       "      <td>91</td>\n",
       "      <td>0</td>\n",
       "    </tr>\n",
       "    <tr>\n",
       "      <th>14</th>\n",
       "      <td>Aisyah Sudiati</td>\n",
       "      <td>80</td>\n",
       "      <td>80</td>\n",
       "      <td>80</td>\n",
       "      <td>1</td>\n",
       "    </tr>\n",
       "    <tr>\n",
       "      <th>15</th>\n",
       "      <td>Balidin Firmansyah</td>\n",
       "      <td>79</td>\n",
       "      <td>89</td>\n",
       "      <td>80</td>\n",
       "      <td>1</td>\n",
       "    </tr>\n",
       "    <tr>\n",
       "      <th>16</th>\n",
       "      <td>Wadi Wasita</td>\n",
       "      <td>94</td>\n",
       "      <td>68</td>\n",
       "      <td>91</td>\n",
       "      <td>0</td>\n",
       "    </tr>\n",
       "    <tr>\n",
       "      <th>17</th>\n",
       "      <td>Hesti Nurdiyanti</td>\n",
       "      <td>85</td>\n",
       "      <td>44</td>\n",
       "      <td>93</td>\n",
       "      <td>0</td>\n",
       "    </tr>\n",
       "    <tr>\n",
       "      <th>18</th>\n",
       "      <td>Ellis Wijayanti</td>\n",
       "      <td>82</td>\n",
       "      <td>21</td>\n",
       "      <td>90</td>\n",
       "      <td>0</td>\n",
       "    </tr>\n",
       "    <tr>\n",
       "      <th>19</th>\n",
       "      <td>Cakrawala Anggriawan</td>\n",
       "      <td>67</td>\n",
       "      <td>87</td>\n",
       "      <td>89</td>\n",
       "      <td>1</td>\n",
       "    </tr>\n",
       "  </tbody>\n",
       "</table>\n",
       "</div>"
      ],
      "text/plain": [
       "                    Nama  UTS  UAS  TUGAS  Cluster\n",
       "0          Anita Nuraini   79   71     86        1\n",
       "1          Noval Ramdhan   62   25     88        0\n",
       "2          Icha Prastuti   69   20     81        0\n",
       "3       Syahrini Safitri   79   20     83        0\n",
       "4         Satya Napitulu   64   69     79        1\n",
       "5          Hana Winarsih   95   20     86        0\n",
       "6      Kezia Pudjiastuti   97   54     85        0\n",
       "7        Humaira Riyanti   73   59     75        1\n",
       "8           Rudi Suryono   65   81     83        1\n",
       "9          Anita Fujiati   79   94     75        1\n",
       "10         Putri Hasanah   72   65     78        1\n",
       "11         Raden Narpati   58   79     84        1\n",
       "12    Darmanto Sihombing   56   81     80        1\n",
       "13        Lukman Permadi   90   59     91        0\n",
       "14        Aisyah Sudiati   80   80     80        1\n",
       "15    Balidin Firmansyah   79   89     80        1\n",
       "16           Wadi Wasita   94   68     91        0\n",
       "17      Hesti Nurdiyanti   85   44     93        0\n",
       "18       Ellis Wijayanti   82   21     90        0\n",
       "19  Cakrawala Anggriawan   67   87     89        1"
      ]
     },
     "execution_count": 41,
     "metadata": {},
     "output_type": "execute_result"
    }
   ],
   "source": [
    "dfmhs"
   ]
  },
  {
   "cell_type": "code",
   "execution_count": 42,
   "id": "a4aa8f93-7ae7-4a1b-91ca-1917141345e7",
   "metadata": {},
   "outputs": [
    {
     "data": {
      "text/plain": [
       "array([[0.67479675, 0.22672673],\n",
       "       [0.345898  , 0.78009828]])"
      ]
     },
     "execution_count": 42,
     "metadata": {},
     "output_type": "execute_result"
    }
   ],
   "source": [
    "kmean.cluster_centers_"
   ]
  },
  {
   "cell_type": "raw",
   "id": "d3ba5130-927a-418b-9ae1-4510386a91d7",
   "metadata": {},
   "source": [
    "VISUALISASI HASIL DATA CLUSTERING"
   ]
  },
  {
   "cell_type": "code",
   "execution_count": 43,
   "id": "beb57bf0-14cd-499d-9371-ab23efee6c1c",
   "metadata": {},
   "outputs": [
    {
     "name": "stderr",
     "output_type": "stream",
     "text": [
      "C:\\Users\\EVA RIYANTI\\AppData\\Local\\Temp\\ipykernel_16104\\417067655.py:5: UserWarning: No data for colormapping provided via 'c'. Parameters 'cmap' will be ignored\n",
      "  plt.scatter(kmean.cluster_centers_[0, 0], kmean.cluster_centers_[0, 1], cmap='rainbow', marker='*', s=150, label='Centroid 0')\n",
      "C:\\Users\\EVA RIYANTI\\AppData\\Local\\Temp\\ipykernel_16104\\417067655.py:6: UserWarning: No data for colormapping provided via 'c'. Parameters 'cmap' will be ignored\n",
      "  plt.scatter(kmean.cluster_centers_[1, 0], kmean.cluster_centers_[1, 1], cmap='rainbow', marker='*', s=150, label='Centroid 1')\n"
     ]
    },
    {
     "data": {
      "image/png": "[encoded data removed]",
      "text/plain": [
       "<Figure size 1000x500 with 1 Axes>"
      ]
     },
     "metadata": {},
     "output_type": "display_data"
    }
   ],
   "source": [
    "import matplotlib.pyplot as plt\n",
    "\n",
    "plt.figure(figsize=(10, 5))\n",
    "plt.scatter(x_train[:, 0], x_train[:, 1], c=kmean.labels_)\n",
    "plt.scatter(kmean.cluster_centers_[0, 0], kmean.cluster_centers_[0, 1], cmap='rainbow', marker='*', s=150, label='Centroid 0')\n",
    "plt.scatter(kmean.cluster_centers_[1, 0], kmean.cluster_centers_[1, 1], cmap='rainbow', marker='*', s=150, label='Centroid 1')\n",
    "plt.xlabel(\"UTS\")\n",
    "plt.ylabel(\"UAS\")\n",
    "plt.legend()\n",
    "plt.show()"
   ]
  },
  {
   "cell_type": "raw",
   "id": "b4ddca38-08ce-4d81-8a73-d084ff045cbf",
   "metadata": {},
   "source": [
    "MENCARI K (jumlah cluster) TERBAIK"
   ]
  },
  {
   "cell_type": "code",
   "execution_count": 44,
   "id": "778d8cc9-0cbb-4616-a8e2-5f11ed20655f",
   "metadata": {},
   "outputs": [
    {
     "name": "stderr",
     "output_type": "stream",
     "text": [
      "C:\\Users\\EVA RIYANTI\\anaconda3-part2\\Lib\\site-packages\\sklearn\\cluster\\_kmeans.py:1412: FutureWarning: The default value of `n_init` will change from 10 to 'auto' in 1.4. Set the value of `n_init` explicitly to suppress the warning\n",
      "  super()._check_params_vs_input(X, default_n_init=10)\n",
      "C:\\Users\\EVA RIYANTI\\anaconda3-part2\\Lib\\site-packages\\sklearn\\cluster\\_kmeans.py:1436: UserWarning: KMeans is known to have a memory leak on Windows with MKL, when there are less chunks than available threads. You can avoid it by setting the environment variable OMP_NUM_THREADS=1.\n",
      "  warnings.warn(\n",
      "C:\\Users\\EVA RIYANTI\\anaconda3-part2\\Lib\\site-packages\\sklearn\\cluster\\_kmeans.py:1412: FutureWarning: The default value of `n_init` will change from 10 to 'auto' in 1.4. Set the value of `n_init` explicitly to suppress the warning\n",
      "  super()._check_params_vs_input(X, default_n_init=10)\n",
      "C:\\Users\\EVA RIYANTI\\anaconda3-part2\\Lib\\site-packages\\sklearn\\cluster\\_kmeans.py:1436: UserWarning: KMeans is known to have a memory leak on Windows with MKL, when there are less chunks than available threads. You can avoid it by setting the environment variable OMP_NUM_THREADS=1.\n",
      "  warnings.warn(\n",
      "C:\\Users\\EVA RIYANTI\\anaconda3-part2\\Lib\\site-packages\\sklearn\\cluster\\_kmeans.py:1412: FutureWarning: The default value of `n_init` will change from 10 to 'auto' in 1.4. Set the value of `n_init` explicitly to suppress the warning\n",
      "  super()._check_params_vs_input(X, default_n_init=10)\n",
      "C:\\Users\\EVA RIYANTI\\anaconda3-part2\\Lib\\site-packages\\sklearn\\cluster\\_kmeans.py:1436: UserWarning: KMeans is known to have a memory leak on Windows with MKL, when there are less chunks than available threads. You can avoid it by setting the environment variable OMP_NUM_THREADS=1.\n",
      "  warnings.warn(\n",
      "C:\\Users\\EVA RIYANTI\\anaconda3-part2\\Lib\\site-packages\\sklearn\\cluster\\_kmeans.py:1412: FutureWarning: The default value of `n_init` will change from 10 to 'auto' in 1.4. Set the value of `n_init` explicitly to suppress the warning\n",
      "  super()._check_params_vs_input(X, default_n_init=10)\n",
      "C:\\Users\\EVA RIYANTI\\anaconda3-part2\\Lib\\site-packages\\sklearn\\cluster\\_kmeans.py:1436: UserWarning: KMeans is known to have a memory leak on Windows with MKL, when there are less chunks than available threads. You can avoid it by setting the environment variable OMP_NUM_THREADS=1.\n",
      "  warnings.warn(\n",
      "C:\\Users\\EVA RIYANTI\\anaconda3-part2\\Lib\\site-packages\\sklearn\\cluster\\_kmeans.py:1412: FutureWarning: The default value of `n_init` will change from 10 to 'auto' in 1.4. Set the value of `n_init` explicitly to suppress the warning\n",
      "  super()._check_params_vs_input(X, default_n_init=10)\n",
      "C:\\Users\\EVA RIYANTI\\anaconda3-part2\\Lib\\site-packages\\sklearn\\cluster\\_kmeans.py:1436: UserWarning: KMeans is known to have a memory leak on Windows with MKL, when there are less chunks than available threads. You can avoid it by setting the environment variable OMP_NUM_THREADS=1.\n",
      "  warnings.warn(\n",
      "C:\\Users\\EVA RIYANTI\\anaconda3-part2\\Lib\\site-packages\\sklearn\\cluster\\_kmeans.py:1412: FutureWarning: The default value of `n_init` will change from 10 to 'auto' in 1.4. Set the value of `n_init` explicitly to suppress the warning\n",
      "  super()._check_params_vs_input(X, default_n_init=10)\n",
      "C:\\Users\\EVA RIYANTI\\anaconda3-part2\\Lib\\site-packages\\sklearn\\cluster\\_kmeans.py:1436: UserWarning: KMeans is known to have a memory leak on Windows with MKL, when there are less chunks than available threads. You can avoid it by setting the environment variable OMP_NUM_THREADS=1.\n",
      "  warnings.warn(\n",
      "C:\\Users\\EVA RIYANTI\\anaconda3-part2\\Lib\\site-packages\\sklearn\\cluster\\_kmeans.py:1412: FutureWarning: The default value of `n_init` will change from 10 to 'auto' in 1.4. Set the value of `n_init` explicitly to suppress the warning\n",
      "  super()._check_params_vs_input(X, default_n_init=10)\n",
      "C:\\Users\\EVA RIYANTI\\anaconda3-part2\\Lib\\site-packages\\sklearn\\cluster\\_kmeans.py:1436: UserWarning: KMeans is known to have a memory leak on Windows with MKL, when there are less chunks than available threads. You can avoid it by setting the environment variable OMP_NUM_THREADS=1.\n",
      "  warnings.warn(\n",
      "C:\\Users\\EVA RIYANTI\\anaconda3-part2\\Lib\\site-packages\\sklearn\\cluster\\_kmeans.py:1412: FutureWarning: The default value of `n_init` will change from 10 to 'auto' in 1.4. Set the value of `n_init` explicitly to suppress the warning\n",
      "  super()._check_params_vs_input(X, default_n_init=10)\n",
      "C:\\Users\\EVA RIYANTI\\anaconda3-part2\\Lib\\site-packages\\sklearn\\cluster\\_kmeans.py:1436: UserWarning: KMeans is known to have a memory leak on Windows with MKL, when there are less chunks than available threads. You can avoid it by setting the environment variable OMP_NUM_THREADS=1.\n",
      "  warnings.warn(\n",
      "C:\\Users\\EVA RIYANTI\\anaconda3-part2\\Lib\\site-packages\\sklearn\\cluster\\_kmeans.py:1412: FutureWarning: The default value of `n_init` will change from 10 to 'auto' in 1.4. Set the value of `n_init` explicitly to suppress the warning\n",
      "  super()._check_params_vs_input(X, default_n_init=10)\n",
      "C:\\Users\\EVA RIYANTI\\anaconda3-part2\\Lib\\site-packages\\sklearn\\cluster\\_kmeans.py:1436: UserWarning: KMeans is known to have a memory leak on Windows with MKL, when there are less chunks than available threads. You can avoid it by setting the environment variable OMP_NUM_THREADS=1.\n",
      "  warnings.warn(\n"
     ]
    }
   ],
   "source": [
    "inertias = []\n",
    "k_range = range(1,10)\n",
    "for k in k_range:\n",
    "    km = KMeans(n_clusters=k).fit(x_train)\n",
    "    inertias.append(km.inertia_)"
   ]
  },
  {
   "cell_type": "code",
   "execution_count": 45,
   "id": "56d26787-b11f-44e1-bd0f-02d4d3add416",
   "metadata": {},
   "outputs": [
    {
     "data": {
      "text/plain": [
       "[3.9642714583001095,\n",
       " 1.9130188833872293,\n",
       " 1.1187951799661366,\n",
       " 0.7490689276024582,\n",
       " 0.5000989789490442,\n",
       " 0.3466438573483528,\n",
       " 0.25651742892787477,\n",
       " 0.18646740297864947,\n",
       " 0.1366745984533016]"
      ]
     },
     "execution_count": 45,
     "metadata": {},
     "output_type": "execute_result"
    }
   ],
   "source": [
    "inertias"
   ]
  },
  {
   "cell_type": "code",
   "execution_count": 46,
   "id": "72b37455-f8a0-4727-abd4-9797a0f617c8",
   "metadata": {},
   "outputs": [
    {
     "data": {
      "image/png": "[encoded data removed]",
      "text/plain": [
       "<Figure size 640x480 with 1 Axes>"
      ]
     },
     "metadata": {},
     "output_type": "display_data"
    }
   ],
   "source": [
    "import matplotlib.pyplot as plt\n",
    "\n",
    "plt.xlabel(\"k\")\n",
    "plt.ylabel(\"Sum of error\")\n",
    "plt.plot(k_range, inertias)\n",
    "plt.grid()\n",
    "plt.show()"
   ]
  },
  {
   "cell_type": "code",
   "execution_count": 47,
   "id": "efde97c5-d3df-4b23-a702-bd2e4af5fc3f",
   "metadata": {},
   "outputs": [],
   "source": [
    "dfmhs['Cluster'] = dfmhs['Cluster'].replace([0,1],['Kurang','Baik'])"
   ]
  },
  {
   "cell_type": "code",
   "execution_count": 48,
   "id": "564d8de8-6e38-4b40-83ae-a005fddbc070",
   "metadata": {},
   "outputs": [
    {
     "data": {
      "text/html": [
       "<div>\n",
       "<style scoped>\n",
       "    .dataframe tbody tr th:only-of-type {\n",
       "        vertical-align: middle;\n",
       "    }\n",
       "\n",
       "    .dataframe tbody tr th {\n",
       "        vertical-align: top;\n",
       "    }\n",
       "\n",
       "    .dataframe thead th {\n",
       "        text-align: right;\n",
       "    }\n",
       "</style>\n",
       "<table border=\"1\" class=\"dataframe\">\n",
       "  <thead>\n",
       "    <tr style=\"text-align: right;\">\n",
       "      <th></th>\n",
       "      <th>Nama</th>\n",
       "      <th>UTS</th>\n",
       "      <th>UAS</th>\n",
       "      <th>TUGAS</th>\n",
       "      <th>Cluster</th>\n",
       "    </tr>\n",
       "  </thead>\n",
       "  <tbody>\n",
       "    <tr>\n",
       "      <th>0</th>\n",
       "      <td>Anita Nuraini</td>\n",
       "      <td>79</td>\n",
       "      <td>71</td>\n",
       "      <td>86</td>\n",
       "      <td>Baik</td>\n",
       "    </tr>\n",
       "    <tr>\n",
       "      <th>1</th>\n",
       "      <td>Noval Ramdhan</td>\n",
       "      <td>62</td>\n",
       "      <td>25</td>\n",
       "      <td>88</td>\n",
       "      <td>Kurang</td>\n",
       "    </tr>\n",
       "    <tr>\n",
       "      <th>2</th>\n",
       "      <td>Icha Prastuti</td>\n",
       "      <td>69</td>\n",
       "      <td>20</td>\n",
       "      <td>81</td>\n",
       "      <td>Kurang</td>\n",
       "    </tr>\n",
       "    <tr>\n",
       "      <th>3</th>\n",
       "      <td>Syahrini Safitri</td>\n",
       "      <td>79</td>\n",
       "      <td>20</td>\n",
       "      <td>83</td>\n",
       "      <td>Kurang</td>\n",
       "    </tr>\n",
       "    <tr>\n",
       "      <th>4</th>\n",
       "      <td>Satya Napitulu</td>\n",
       "      <td>64</td>\n",
       "      <td>69</td>\n",
       "      <td>79</td>\n",
       "      <td>Baik</td>\n",
       "    </tr>\n",
       "    <tr>\n",
       "      <th>5</th>\n",
       "      <td>Hana Winarsih</td>\n",
       "      <td>95</td>\n",
       "      <td>20</td>\n",
       "      <td>86</td>\n",
       "      <td>Kurang</td>\n",
       "    </tr>\n",
       "    <tr>\n",
       "      <th>6</th>\n",
       "      <td>Kezia Pudjiastuti</td>\n",
       "      <td>97</td>\n",
       "      <td>54</td>\n",
       "      <td>85</td>\n",
       "      <td>Kurang</td>\n",
       "    </tr>\n",
       "    <tr>\n",
       "      <th>7</th>\n",
       "      <td>Humaira Riyanti</td>\n",
       "      <td>73</td>\n",
       "      <td>59</td>\n",
       "      <td>75</td>\n",
       "      <td>Baik</td>\n",
       "    </tr>\n",
       "    <tr>\n",
       "      <th>8</th>\n",
       "      <td>Rudi Suryono</td>\n",
       "      <td>65</td>\n",
       "      <td>81</td>\n",
       "      <td>83</td>\n",
       "      <td>Baik</td>\n",
       "    </tr>\n",
       "    <tr>\n",
       "      <th>9</th>\n",
       "      <td>Anita Fujiati</td>\n",
       "      <td>79</td>\n",
       "      <td>94</td>\n",
       "      <td>75</td>\n",
       "      <td>Baik</td>\n",
       "    </tr>\n",
       "    <tr>\n",
       "      <th>10</th>\n",
       "      <td>Putri Hasanah</td>\n",
       "      <td>72</td>\n",
       "      <td>65</td>\n",
       "      <td>78</td>\n",
       "      <td>Baik</td>\n",
       "    </tr>\n",
       "    <tr>\n",
       "      <th>11</th>\n",
       "      <td>Raden Narpati</td>\n",
       "      <td>58</td>\n",
       "      <td>79</td>\n",
       "      <td>84</td>\n",
       "      <td>Baik</td>\n",
       "    </tr>\n",
       "    <tr>\n",
       "      <th>12</th>\n",
       "      <td>Darmanto Sihombing</td>\n",
       "      <td>56</td>\n",
       "      <td>81</td>\n",
       "      <td>80</td>\n",
       "      <td>Baik</td>\n",
       "    </tr>\n",
       "    <tr>\n",
       "      <th>13</th>\n",
       "      <td>Lukman Permadi</td>\n",
       "      <td>90</td>\n",
       "      <td>59</td>\n",
       "      <td>91</td>\n",
       "      <td>Kurang</td>\n",
       "    </tr>\n",
       "    <tr>\n",
       "      <th>14</th>\n",
       "      <td>Aisyah Sudiati</td>\n",
       "      <td>80</td>\n",
       "      <td>80</td>\n",
       "      <td>80</td>\n",
       "      <td>Baik</td>\n",
       "    </tr>\n",
       "    <tr>\n",
       "      <th>15</th>\n",
       "      <td>Balidin Firmansyah</td>\n",
       "      <td>79</td>\n",
       "      <td>89</td>\n",
       "      <td>80</td>\n",
       "      <td>Baik</td>\n",
       "    </tr>\n",
       "    <tr>\n",
       "      <th>16</th>\n",
       "      <td>Wadi Wasita</td>\n",
       "      <td>94</td>\n",
       "      <td>68</td>\n",
       "      <td>91</td>\n",
       "      <td>Kurang</td>\n",
       "    </tr>\n",
       "    <tr>\n",
       "      <th>17</th>\n",
       "      <td>Hesti Nurdiyanti</td>\n",
       "      <td>85</td>\n",
       "      <td>44</td>\n",
       "      <td>93</td>\n",
       "      <td>Kurang</td>\n",
       "    </tr>\n",
       "    <tr>\n",
       "      <th>18</th>\n",
       "      <td>Ellis Wijayanti</td>\n",
       "      <td>82</td>\n",
       "      <td>21</td>\n",
       "      <td>90</td>\n",
       "      <td>Kurang</td>\n",
       "    </tr>\n",
       "    <tr>\n",
       "      <th>19</th>\n",
       "      <td>Cakrawala Anggriawan</td>\n",
       "      <td>67</td>\n",
       "      <td>87</td>\n",
       "      <td>89</td>\n",
       "      <td>Baik</td>\n",
       "    </tr>\n",
       "  </tbody>\n",
       "</table>\n",
       "</div>"
      ],
      "text/plain": [
       "                    Nama  UTS  UAS  TUGAS Cluster\n",
       "0          Anita Nuraini   79   71     86    Baik\n",
       "1          Noval Ramdhan   62   25     88  Kurang\n",
       "2          Icha Prastuti   69   20     81  Kurang\n",
       "3       Syahrini Safitri   79   20     83  Kurang\n",
       "4         Satya Napitulu   64   69     79    Baik\n",
       "5          Hana Winarsih   95   20     86  Kurang\n",
       "6      Kezia Pudjiastuti   97   54     85  Kurang\n",
       "7        Humaira Riyanti   73   59     75    Baik\n",
       "8           Rudi Suryono   65   81     83    Baik\n",
       "9          Anita Fujiati   79   94     75    Baik\n",
       "10         Putri Hasanah   72   65     78    Baik\n",
       "11         Raden Narpati   58   79     84    Baik\n",
       "12    Darmanto Sihombing   56   81     80    Baik\n",
       "13        Lukman Permadi   90   59     91  Kurang\n",
       "14        Aisyah Sudiati   80   80     80    Baik\n",
       "15    Balidin Firmansyah   79   89     80    Baik\n",
       "16           Wadi Wasita   94   68     91  Kurang\n",
       "17      Hesti Nurdiyanti   85   44     93  Kurang\n",
       "18       Ellis Wijayanti   82   21     90  Kurang\n",
       "19  Cakrawala Anggriawan   67   87     89    Baik"
      ]
     },
     "execution_count": 48,
     "metadata": {},
     "output_type": "execute_result"
    }
   ],
   "source": [
    "dfmhs"
   ]
  },
  {
   "cell_type": "code",
   "execution_count": null,
   "id": "f8fae696-b971-4d69-aa23-abef7c649b94",
   "metadata": {},
   "outputs": [],
   "source": []
  }
 ],
 "metadata": {
  "kernelspec": {
   "display_name": "Python 3 (ipykernel)",
   "language": "python",
   "name": "python3"
  },
  "language_info": {
   "codemirror_mode": {
    "name": "ipython",
    "version": 3
   },
   "file_extension": ".py",
   "mimetype": "text/x-python",
   "name": "python",
   "nbconvert_exporter": "python",
   "pygments_lexer": "ipython3",
   "version": "3.11.5"
  }
 },
 "nbformat": 4,
 "nbformat_minor": 5
}
